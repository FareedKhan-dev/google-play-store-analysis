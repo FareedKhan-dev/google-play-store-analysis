{
 "cells": [
  {
   "cell_type": "markdown",
   "id": "860763c2",
   "metadata": {},
   "source": [
    "Importing Libraries"
   ]
  },
  {
   "cell_type": "code",
   "execution_count": 1,
   "id": "4c2066c7",
   "metadata": {},
   "outputs": [],
   "source": [
    "import pandas as pd\n",
    "import numpy as np\n",
    "import matplotlib.pyplot as plt"
   ]
  },
  {
   "cell_type": "markdown",
   "id": "ca77daf1",
   "metadata": {},
   "source": [
    "_____"
   ]
  },
  {
   "cell_type": "markdown",
   "id": "7317014f",
   "metadata": {},
   "source": [
    "Reading Data"
   ]
  },
  {
   "cell_type": "code",
   "execution_count": 2,
   "id": "b73a39de",
   "metadata": {},
   "outputs": [
    {
     "name": "stdout",
     "output_type": "stream",
     "text": [
      "Wall time: 9.72 s\n"
     ]
    }
   ],
   "source": [
    "%%time\n",
    "df = pd.read_csv('Google-Playstore.csv')"
   ]
  },
  {
   "cell_type": "code",
   "execution_count": 3,
   "id": "01261a79",
   "metadata": {},
   "outputs": [],
   "source": [
    "df['count'] = 1"
   ]
  },
  {
   "cell_type": "markdown",
   "id": "2f939d50",
   "metadata": {},
   "source": [
    "Top four category based on number of apps"
   ]
  },
  {
   "cell_type": "code",
   "execution_count": 4,
   "id": "d7edf80b",
   "metadata": {},
   "outputs": [
    {
     "data": {
      "image/png": "[encoded data removed]",
      "text/plain": [
       "<Figure size 864x432 with 1 Axes>"
      ]
     },
     "metadata": {
      "needs_background": "light"
     },
     "output_type": "display_data"
    }
   ],
   "source": [
    "# top 4 cateogry based on number of apps exist\n",
    "y = 5\n",
    "apps_of_category = df.groupby('Category').count()['count'].sort_values(ascending=False)\n",
    "x_values = list(apps_of_category.index[0:y])\n",
    "y_values = list(apps_of_category[0:y])\n",
    "# plt.rcParams[\"font.family\"] = \"Poppins\"\n",
    "plt.figure(figsize=(12,6))\n",
    "clrs = ['grey' if (x < max(y_values)) else 'green' for x in y_values]\n",
    "plt.bar(x_values, y_values, linewidth=15, width = 0.4, color=clrs)\n",
    "plt.title('Cateogry with highest Number of Apps', fontsize=20)\n",
    "plt.xlabel('Cateogry', fontsize=15, labelpad=20)\n",
    "plt.ylabel('Number of Apps', fontsize=15, labelpad=20)\n",
    "plt.tick_params('both', labelsize=15, labelcolor='black')\n",
    "plt.margins(x=0.1, y=0.1, tight=True)\n",
    "plt.savefig('top_category.jpg', dpi=200)"
   ]
  },
  {
   "cell_type": "markdown",
   "id": "68567808",
   "metadata": {},
   "source": [
    "_____"
   ]
  },
  {
   "cell_type": "markdown",
   "id": "57dfc292",
   "metadata": {},
   "source": [
    "Number 1 app based on downloads"
   ]
  },
  {
   "cell_type": "code",
   "execution_count": 5,
   "id": "c0bf4773",
   "metadata": {},
   "outputs": [
    {
     "name": "stderr",
     "output_type": "stream",
     "text": [
      "<ipython-input-5-952191c52189>:6: FutureWarning: The default value of regex will change from True to False in a future version.\n",
      "  top_downloaded_apps['Installs'] = top_downloaded_apps['Installs'].str.replace('\\+|,', '').apply(pd.to_numeric)\n"
     ]
    }
   ],
   "source": [
    "# remove na values from install\n",
    "top_downloaded_apps = df[df['Installs'].isna() == False].sort_values('Installs', ascending=False)\n",
    "# indexing to find rank of app\n",
    "top_downloaded_apps.reset_index(inplace=True)\n",
    "# remove special character from installs column\n",
    "top_downloaded_apps['Installs'] = top_downloaded_apps['Installs'].str.replace('\\+|,', '').apply(pd.to_numeric)\n",
    "# sorting apps from installs\n",
    "top_downloaded_apps = top_downloaded_apps.sort_values('Installs', ascending=False)"
   ]
  },
  {
   "cell_type": "code",
   "execution_count": 6,
   "id": "e8d5ea10",
   "metadata": {},
   "outputs": [
    {
     "data": {
      "text/html": [
       "<div>\n",
       "<style scoped>\n",
       "    .dataframe tbody tr th:only-of-type {\n",
       "        vertical-align: middle;\n",
       "    }\n",
       "\n",
       "    .dataframe tbody tr th {\n",
       "        vertical-align: top;\n",
       "    }\n",
       "\n",
       "    .dataframe thead th {\n",
       "        text-align: right;\n",
       "    }\n",
       "</style>\n",
       "<table border=\"1\" class=\"dataframe\">\n",
       "  <thead>\n",
       "    <tr style=\"text-align: right;\">\n",
       "      <th></th>\n",
       "      <th>index</th>\n",
       "      <th>App Name</th>\n",
       "      <th>App Id</th>\n",
       "      <th>Category</th>\n",
       "      <th>Rating</th>\n",
       "      <th>Rating Count</th>\n",
       "      <th>Installs</th>\n",
       "      <th>Minimum Installs</th>\n",
       "      <th>Maximum Installs</th>\n",
       "      <th>Free</th>\n",
       "      <th>...</th>\n",
       "      <th>Developer Email</th>\n",
       "      <th>Released</th>\n",
       "      <th>Last Updated</th>\n",
       "      <th>Content Rating</th>\n",
       "      <th>Privacy Policy</th>\n",
       "      <th>Ad Supported</th>\n",
       "      <th>In App Purchases</th>\n",
       "      <th>Editors Choice</th>\n",
       "      <th>Scraped Time</th>\n",
       "      <th>count</th>\n",
       "    </tr>\n",
       "  </thead>\n",
       "  <tbody>\n",
       "    <tr>\n",
       "      <th>1240950</th>\n",
       "      <td>2155096</td>\n",
       "      <td>Google Play services</td>\n",
       "      <td>com.google.android.gms</td>\n",
       "      <td>Tools</td>\n",
       "      <td>4.2</td>\n",
       "      <td>35128398.0</td>\n",
       "      <td>10000000000</td>\n",
       "      <td>1.000000e+10</td>\n",
       "      <td>12057627016</td>\n",
       "      <td>True</td>\n",
       "      <td>...</td>\n",
       "      <td>apps-help@google.com</td>\n",
       "      <td>May 24, 2012</td>\n",
       "      <td>Jun 10, 2021</td>\n",
       "      <td>Everyone</td>\n",
       "      <td>http://www.google.com/policies/privacy</td>\n",
       "      <td>False</td>\n",
       "      <td>False</td>\n",
       "      <td>False</td>\n",
       "      <td>2021-06-16 10:41:26</td>\n",
       "      <td>1</td>\n",
       "    </tr>\n",
       "  </tbody>\n",
       "</table>\n",
       "<p>1 rows × 26 columns</p>\n",
       "</div>"
      ],
      "text/plain": [
       "           index              App Name                  App Id Category  \\\n",
       "1240950  2155096  Google Play services  com.google.android.gms    Tools   \n",
       "\n",
       "         Rating  Rating Count     Installs  Minimum Installs  \\\n",
       "1240950     4.2    35128398.0  10000000000      1.000000e+10   \n",
       "\n",
       "         Maximum Installs  Free  ...       Developer Email      Released  \\\n",
       "1240950       12057627016  True  ...  apps-help@google.com  May 24, 2012   \n",
       "\n",
       "         Last Updated Content Rating                          Privacy Policy  \\\n",
       "1240950  Jun 10, 2021       Everyone  http://www.google.com/policies/privacy   \n",
       "\n",
       "        Ad Supported In App Purchases Editors Choice         Scraped Time  \\\n",
       "1240950        False            False          False  2021-06-16 10:41:26   \n",
       "\n",
       "        count  \n",
       "1240950     1  \n",
       "\n",
       "[1 rows x 26 columns]"
      ]
     },
     "execution_count": 6,
     "metadata": {},
     "output_type": "execute_result"
    }
   ],
   "source": [
    "# printing the first app based on number of downloads\n",
    "top_downloaded_apps.iloc[:1,:]"
   ]
  },
  {
   "cell_type": "code",
   "execution_count": 7,
   "id": "8a077d87",
   "metadata": {},
   "outputs": [
    {
     "data": {
      "text/plain": [
       "index                                               1702634\n",
       "App Name                                         Calculator\n",
       "App Id                        com.google.android.calculator\n",
       "Category                                              Tools\n",
       "Rating                                                  4.4\n",
       "Rating Count                                       354298.0\n",
       "Installs                                         1000000000\n",
       "Minimum Installs                               1000000000.0\n",
       "Maximum Installs                                 1005908944\n",
       "Free                                                   True\n",
       "Price                                                   0.0\n",
       "Currency                                                USD\n",
       "Size                                                   2.6M\n",
       "Minimum Android                                  6.0 and up\n",
       "Developer Id                                     Google LLC\n",
       "Developer Website                    http://www.google.com/\n",
       "Developer Email      android-calculator-feedback@google.com\n",
       "Released                                       Mar 30, 2016\n",
       "Last Updated                                   Oct 07, 2019\n",
       "Content Rating                                     Everyone\n",
       "Privacy Policy       http://www.google.com/policies/privacy\n",
       "Ad Supported                                          False\n",
       "In App Purchases                                      False\n",
       "Editors Choice                                        False\n",
       "Scraped Time                            2021-06-16 04:13:12\n",
       "count                                                     1\n",
       "Name: 1804053, dtype: object"
      ]
     },
     "execution_count": 7,
     "metadata": {},
     "output_type": "execute_result"
    }
   ],
   "source": [
    "top_downloaded_apps[top_downloaded_apps['App Name'] == 'Calculator'].iloc[0]"
   ]
  },
  {
   "cell_type": "markdown",
   "id": "43bb0b87",
   "metadata": {},
   "source": [
    "____"
   ]
  },
  {
   "cell_type": "markdown",
   "id": "a20f0c2e",
   "metadata": {},
   "source": [
    "Most Expensive App"
   ]
  },
  {
   "cell_type": "code",
   "execution_count": 8,
   "id": "a780463f",
   "metadata": {},
   "outputs": [
    {
     "data": {
      "text/html": [
       "<div>\n",
       "<style scoped>\n",
       "    .dataframe tbody tr th:only-of-type {\n",
       "        vertical-align: middle;\n",
       "    }\n",
       "\n",
       "    .dataframe tbody tr th {\n",
       "        vertical-align: top;\n",
       "    }\n",
       "\n",
       "    .dataframe thead th {\n",
       "        text-align: right;\n",
       "    }\n",
       "</style>\n",
       "<table border=\"1\" class=\"dataframe\">\n",
       "  <thead>\n",
       "    <tr style=\"text-align: right;\">\n",
       "      <th></th>\n",
       "      <th>App Name</th>\n",
       "      <th>App Id</th>\n",
       "      <th>Category</th>\n",
       "      <th>Rating</th>\n",
       "      <th>Rating Count</th>\n",
       "      <th>Installs</th>\n",
       "      <th>Minimum Installs</th>\n",
       "      <th>Maximum Installs</th>\n",
       "      <th>Free</th>\n",
       "      <th>Price</th>\n",
       "      <th>...</th>\n",
       "      <th>Developer Email</th>\n",
       "      <th>Released</th>\n",
       "      <th>Last Updated</th>\n",
       "      <th>Content Rating</th>\n",
       "      <th>Privacy Policy</th>\n",
       "      <th>Ad Supported</th>\n",
       "      <th>In App Purchases</th>\n",
       "      <th>Editors Choice</th>\n",
       "      <th>Scraped Time</th>\n",
       "      <th>count</th>\n",
       "    </tr>\n",
       "  </thead>\n",
       "  <tbody>\n",
       "    <tr>\n",
       "      <th>544468</th>\n",
       "      <td>MESH Connect</td>\n",
       "      <td>com.tecit.android.bluepiano.meshconnectfull</td>\n",
       "      <td>Productivity</td>\n",
       "      <td>0.0</td>\n",
       "      <td>0.0</td>\n",
       "      <td>10+</td>\n",
       "      <td>10.0</td>\n",
       "      <td>25</td>\n",
       "      <td>False</td>\n",
       "      <td>400.0</td>\n",
       "      <td>...</td>\n",
       "      <td>support@go-evo.com</td>\n",
       "      <td>Sep 7, 2017</td>\n",
       "      <td>Sep 07, 2017</td>\n",
       "      <td>Everyone</td>\n",
       "      <td>http://www.go-evo.com/privacy</td>\n",
       "      <td>False</td>\n",
       "      <td>False</td>\n",
       "      <td>False</td>\n",
       "      <td>2021-06-16 05:15:22</td>\n",
       "      <td>1</td>\n",
       "    </tr>\n",
       "  </tbody>\n",
       "</table>\n",
       "<p>1 rows × 25 columns</p>\n",
       "</div>"
      ],
      "text/plain": [
       "            App Name                                       App Id  \\\n",
       "544468  MESH Connect  com.tecit.android.bluepiano.meshconnectfull   \n",
       "\n",
       "            Category  Rating  Rating Count Installs  Minimum Installs  \\\n",
       "544468  Productivity     0.0           0.0      10+              10.0   \n",
       "\n",
       "        Maximum Installs   Free  Price  ...     Developer Email     Released  \\\n",
       "544468                25  False  400.0  ...  support@go-evo.com  Sep 7, 2017   \n",
       "\n",
       "        Last Updated Content Rating                 Privacy Policy  \\\n",
       "544468  Sep 07, 2017       Everyone  http://www.go-evo.com/privacy   \n",
       "\n",
       "       Ad Supported In App Purchases Editors Choice         Scraped Time count  \n",
       "544468        False            False          False  2021-06-16 05:15:22     1  \n",
       "\n",
       "[1 rows x 25 columns]"
      ]
     },
     "execution_count": 8,
     "metadata": {},
     "output_type": "execute_result"
    }
   ],
   "source": [
    "# Sorting based on Price\n",
    "df.sort_values('Price', ascending=False).iloc[:1,:]"
   ]
  },
  {
   "cell_type": "markdown",
   "id": "7cb631b0",
   "metadata": {},
   "source": [
    "______"
   ]
  },
  {
   "cell_type": "markdown",
   "id": "19f33359",
   "metadata": {},
   "source": [
    "The most oldest App"
   ]
  },
  {
   "cell_type": "code",
   "execution_count": 9,
   "id": "b04b4861",
   "metadata": {},
   "outputs": [],
   "source": [
    "df['Released Year'] = df['Released'].str[-4:].apply(pd.to_numeric)\n",
    "df['Released Date'] = df['Released'].str[-8:-6].apply(pd.to_numeric)\n",
    "oldest_apps = df[(df['Released Year'].isna() == False) & (df['Released Date'].isna() == False)]"
   ]
  },
  {
   "cell_type": "code",
   "execution_count": 10,
   "id": "78683b42",
   "metadata": {},
   "outputs": [],
   "source": [
    "# sorting apps from installs\n",
    "oldest_apps = oldest_apps.sort_values('Released Year', ascending=True)"
   ]
  },
  {
   "cell_type": "code",
   "execution_count": 11,
   "id": "7f559d02",
   "metadata": {},
   "outputs": [],
   "source": [
    "# taking only first year of uploaded apps and first month\n",
    "_2010_apps = oldest_apps[(oldest_apps['Released Year'] == oldest_apps['Released Year'].iloc[0]) \n",
    "                         & \n",
    "                         (oldest_apps['Released'].str.contains('Jan'))].sort_values('Released Date', ascending =True)"
   ]
  },
  {
   "cell_type": "code",
   "execution_count": 12,
   "id": "e14f36a2",
   "metadata": {},
   "outputs": [
    {
     "data": {
      "text/plain": [
       "App Name                  TweetCaster Pro for Twitter\n",
       "App Id               com.handmark.tweetcaster.premium\n",
       "Category                                       Social\n",
       "Rating                                            3.9\n",
       "Rating Count                                  24284.0\n",
       "Installs                                     100,000+\n",
       "Minimum Installs                             100000.0\n",
       "Maximum Installs                               102129\n",
       "Free                                            False\n",
       "Price                                            4.99\n",
       "Currency                                          USD\n",
       "Size                                              12M\n",
       "Minimum Android                            6.0 and up\n",
       "Developer Id                           OneLouder Apps\n",
       "Developer Website           http://www.onelouder.com/\n",
       "Developer Email                 support@onelouder.com\n",
       "Released                                 Jan 28, 2010\n",
       "Last Updated                             Mar 02, 2021\n",
       "Content Rating                                   Teen\n",
       "Privacy Policy         http://tweetcaster.com/privacy\n",
       "Ad Supported                                    False\n",
       "In App Purchases                                False\n",
       "Editors Choice                                  False\n",
       "Scraped Time                      2021-06-16 09:11:58\n",
       "count                                               1\n",
       "Released Year                                  2010.0\n",
       "Released Date                                    28.0\n",
       "Name: 2052352, dtype: object"
      ]
     },
     "execution_count": 12,
     "metadata": {},
     "output_type": "execute_result"
    }
   ],
   "source": [
    "_2010_apps.iloc[0]"
   ]
  },
  {
   "cell_type": "markdown",
   "id": "fc8af637",
   "metadata": {},
   "source": [
    "_____"
   ]
  },
  {
   "cell_type": "markdown",
   "id": "8e6b6ee1",
   "metadata": {},
   "source": [
    "Ratio of Add supported and non Add supported Apps"
   ]
  },
  {
   "cell_type": "code",
   "execution_count": 13,
   "id": "d1559106",
   "metadata": {},
   "outputs": [],
   "source": [
    "Add_supported = df[df['Ad Supported'] == True].count()['count']\n",
    "Non_Add_supported = df[df['Ad Supported'] == False].count()['count']\n",
    "total_sum = Add_supported + Non_Add_supported"
   ]
  },
  {
   "cell_type": "code",
   "execution_count": 14,
   "id": "07fc31e2",
   "metadata": {},
   "outputs": [
    {
     "name": "stdout",
     "output_type": "stream",
     "text": [
      "The Add-suported apps ratio is 49.75 \n",
      " The Non Add-suported apps ratio is 50.25\n"
     ]
    }
   ],
   "source": [
    "Ratio_supported = round((Add_supported/total_sum)*100,2)\n",
    "Ratio_Non_supported = round((Non_Add_supported/total_sum)*100,2)\n",
    "\n",
    "# They exist with equal ratios\n",
    "print('The Add-suported apps ratio is', Ratio_supported, '\\n', 'The Non Add-suported apps ratio is', Ratio_Non_supported)"
   ]
  },
  {
   "cell_type": "markdown",
   "id": "888ce208",
   "metadata": {},
   "source": [
    "_____"
   ]
  },
  {
   "cell_type": "markdown",
   "id": "3181ffc6",
   "metadata": {},
   "source": [
    "Ratings analysis"
   ]
  },
  {
   "cell_type": "code",
   "execution_count": 15,
   "id": "4d8e7529",
   "metadata": {},
   "outputs": [],
   "source": [
    "x_values = list(df.groupby(\"Rating\").count()['count'].index)\n",
    "y_values = list(df.groupby(\"Rating\").count()['count'].values)"
   ]
  },
  {
   "cell_type": "code",
   "execution_count": 16,
   "id": "338ac48a",
   "metadata": {
    "scrolled": true
   },
   "outputs": [
    {
     "data": {
      "image/png": "[encoded data removed]",
      "text/plain": [
       "<Figure size 936x576 with 1 Axes>"
      ]
     },
     "metadata": {
      "needs_background": "light"
     },
     "output_type": "display_data"
    }
   ],
   "source": [
    "plt.figure(figsize=(13,8))\n",
    "clrs = ['grey' if (x < max(y_values)) else 'green' for x in y_values ]\n",
    "plt.bar(x_values, y_values, linewidth=15, width = 0.4, color=clrs)\n",
    "plt.title('Apps Rating Distribution', fontsize=20)\n",
    "plt.xlabel('Rating', fontsize=15, labelpad=20)\n",
    "plt.ylabel('Number of Apps', fontsize=15, labelpad=20)\n",
    "plt.tick_params('both', labelsize=15, labelcolor='black')\n",
    "plt.ticklabel_format(useOffset=False, style='plain')\n",
    "plt.savefig('Rating_count.jpg', dpi=200)"
   ]
  },
  {
   "cell_type": "markdown",
   "id": "00f3981e",
   "metadata": {},
   "source": [
    "Shooting games list"
   ]
  },
  {
   "cell_type": "code",
   "execution_count": 17,
   "id": "cacbd9ca",
   "metadata": {},
   "outputs": [],
   "source": [
    "df_action = df[df['Category'] == 'Action']"
   ]
  },
  {
   "cell_type": "code",
   "execution_count": 18,
   "id": "7009059f",
   "metadata": {},
   "outputs": [
    {
     "data": {
      "text/plain": [
       "App Name                  Sniper 3D: Fun Free Online FPS Shooting Game\n",
       "App Id                                           com.fungames.sniper3d\n",
       "Category                                                        Action\n",
       "Rating                                                             4.4\n",
       "Rating Count                                                 1285629.0\n",
       "Installs                                                  500,000,000+\n",
       "Minimum Installs                                           500000000.0\n",
       "Maximum Installs                                             518325903\n",
       "Free                                                              True\n",
       "Price                                                              0.0\n",
       "Currency                                                           USD\n",
       "Size                                                              136M\n",
       "Minimum Android                                             4.4 and up\n",
       "Developer Id                                        Fun Games For Free\n",
       "Developer Website                         https://wildlifestudios.com/\n",
       "Developer Email                  support+sniper3d@fungames-forfree.com\n",
       "Released                                                  Nov 13, 2014\n",
       "Last Updated                                              Jun 04, 2021\n",
       "Content Rating                                              Mature 17+\n",
       "Privacy Policy       https://www.fungames-forfree.com/games/sniper3...\n",
       "Ad Supported                                                      True\n",
       "In App Purchases                                                  True\n",
       "Editors Choice                                                   False\n",
       "Scraped Time                                       2021-06-15 23:05:48\n",
       "count                                                                1\n",
       "Released Year                                                   2014.0\n",
       "Released Date                                                     13.0\n",
       "Name: 166556, dtype: object"
      ]
     },
     "execution_count": 18,
     "metadata": {},
     "output_type": "execute_result"
    }
   ],
   "source": [
    "df_action[df_action['App Name'].str.lower().str.contains('war|action|fight|shoot|kill|crime')].sort_values('Installs', ascending=False).iloc[0]"
   ]
  },
  {
   "cell_type": "markdown",
   "id": "dec79ffa",
   "metadata": {},
   "source": [
    "____"
   ]
  },
  {
   "cell_type": "markdown",
   "id": "117ee3b4",
   "metadata": {},
   "source": [
    "Each Category separate DataFrame"
   ]
  },
  {
   "cell_type": "code",
   "execution_count": 19,
   "id": "6aa25569",
   "metadata": {},
   "outputs": [],
   "source": [
    "d = {index: label for index, label in df.groupby('Category')}"
   ]
  },
  {
   "cell_type": "markdown",
   "id": "5cba23a0",
   "metadata": {},
   "source": [
    "____"
   ]
  },
  {
   "cell_type": "markdown",
   "id": "a486851a",
   "metadata": {},
   "source": [
    "Rating Analysis of category"
   ]
  },
  {
   "cell_type": "code",
   "execution_count": 20,
   "id": "25721234",
   "metadata": {},
   "outputs": [],
   "source": [
    "values = []\n",
    "keys=[]\n",
    "for key in d:\n",
    "    values.append(round(d[key]['Rating'].mean(),2))\n",
    "    keys.append(key)\n",
    "#     print(key, ' Category has average rating of', round(d[key]['Rating'].mean(),2), '\\n')\n",
    "data = {'Category': keys, 'Average Rating': values}"
   ]
  },
  {
   "cell_type": "code",
   "execution_count": 21,
   "id": "e3b7f26b",
   "metadata": {},
   "outputs": [],
   "source": [
    "tester = pd.DataFrame(data=data)"
   ]
  },
  {
   "cell_type": "code",
   "execution_count": 22,
   "id": "68be82b1",
   "metadata": {},
   "outputs": [
    {
     "data": {
      "text/plain": [
       "48"
      ]
     },
     "execution_count": 22,
     "metadata": {},
     "output_type": "execute_result"
    }
   ],
   "source": [
    "tester['Average Rating'].count()"
   ]
  },
  {
   "cell_type": "code",
   "execution_count": 23,
   "id": "fa316711",
   "metadata": {},
   "outputs": [
    {
     "data": {
      "text/plain": [
       "Category          43\n",
       "Average Rating    43\n",
       "dtype: int64"
      ]
     },
     "execution_count": 23,
     "metadata": {},
     "output_type": "execute_result"
    }
   ],
   "source": [
    "tester[tester['Average Rating'] < 3].count()"
   ]
  },
  {
   "cell_type": "markdown",
   "id": "b931cc37",
   "metadata": {},
   "source": [
    "____"
   ]
  },
  {
   "cell_type": "markdown",
   "id": "9a3e95a3",
   "metadata": {},
   "source": [
    "Average rating of google play store"
   ]
  },
  {
   "cell_type": "code",
   "execution_count": 24,
   "id": "298e4619",
   "metadata": {},
   "outputs": [],
   "source": [
    "df_as = df[df['Rating'].isna() == False]['Rating']"
   ]
  },
  {
   "cell_type": "code",
   "execution_count": 25,
   "id": "f712fda3",
   "metadata": {},
   "outputs": [
    {
     "data": {
      "text/plain": [
       "2.2031515317710064"
      ]
     },
     "execution_count": 25,
     "metadata": {},
     "output_type": "execute_result"
    }
   ],
   "source": [
    "df_as.mean()"
   ]
  },
  {
   "cell_type": "markdown",
   "id": "639e8b2b",
   "metadata": {},
   "source": [
    "_______"
   ]
  },
  {
   "cell_type": "markdown",
   "id": "9f97b7f0",
   "metadata": {},
   "source": [
    "Smallest and largest size of app on playstore"
   ]
  },
  {
   "cell_type": "code",
   "execution_count": 26,
   "id": "d57a03ea",
   "metadata": {},
   "outputs": [],
   "source": [
    "df_size_app_data = df[df['Size'].isna() == False]"
   ]
  },
  {
   "cell_type": "code",
   "execution_count": 27,
   "id": "94dc584c",
   "metadata": {},
   "outputs": [],
   "source": [
    "df_size_of_app = df_size_app_data.sort_values('Size', ascending=False)"
   ]
  },
  {
   "cell_type": "code",
   "execution_count": 28,
   "id": "ebe6d126",
   "metadata": {},
   "outputs": [],
   "source": [
    "df_size_measure = df_size_of_app[(df_size_of_app['Size'].str.contains('[0-9]')) & \n",
    "                                 (df_size_of_app['Size'].str.contains('k|K'))]"
   ]
  },
  {
   "cell_type": "code",
   "execution_count": 29,
   "id": "f007e76e",
   "metadata": {
    "scrolled": true
   },
   "outputs": [
    {
     "name": "stderr",
     "output_type": "stream",
     "text": [
      "<ipython-input-29-21fd453aa4ca>:1: SettingWithCopyWarning: \n",
      "A value is trying to be set on a copy of a slice from a DataFrame.\n",
      "Try using .loc[row_indexer,col_indexer] = value instead\n",
      "\n",
      "See the caveats in the documentation: https://pandas.pydata.org/pandas-docs/stable/user_guide/indexing.html#returning-a-view-versus-a-copy\n",
      "  df_size_measure['size_new_1'] = df_size_measure['Size'].str.replace('k', '')\n",
      "<ipython-input-29-21fd453aa4ca>:2: SettingWithCopyWarning: \n",
      "A value is trying to be set on a copy of a slice from a DataFrame.\n",
      "Try using .loc[row_indexer,col_indexer] = value instead\n",
      "\n",
      "See the caveats in the documentation: https://pandas.pydata.org/pandas-docs/stable/user_guide/indexing.html#returning-a-view-versus-a-copy\n",
      "  df_size_measure['size_new_2'] = df_size_measure['size_new_1'].str.replace(',', '').apply(pd.to_numeric)\n"
     ]
    }
   ],
   "source": [
    "df_size_measure['size_new_1'] = df_size_measure['Size'].str.replace('k', '')\n",
    "df_size_measure['size_new_2'] = df_size_measure['size_new_1'].str.replace(',', '').apply(pd.to_numeric)"
   ]
  },
  {
   "cell_type": "code",
   "execution_count": 30,
   "id": "c19ba0a8",
   "metadata": {},
   "outputs": [
    {
     "name": "stdout",
     "output_type": "stream",
     "text": [
      "The smallest size of an app is  99k\n"
     ]
    }
   ],
   "source": [
    "print('The smallest size of an app is ',df_size_measure.iloc[0].Size)"
   ]
  },
  {
   "cell_type": "code",
   "execution_count": 31,
   "id": "3cfc40b4",
   "metadata": {
    "scrolled": true
   },
   "outputs": [
    {
     "name": "stderr",
     "output_type": "stream",
     "text": [
      "<ipython-input-31-6dcfb08a3874>:4: FutureWarning: The default value of regex will change from True to False in a future version.\n",
      "  df_size_measure['size_new_1'] = df_size_measure['Size'].str.replace('m|M', '')\n",
      "<ipython-input-31-6dcfb08a3874>:4: SettingWithCopyWarning: \n",
      "A value is trying to be set on a copy of a slice from a DataFrame.\n",
      "Try using .loc[row_indexer,col_indexer] = value instead\n",
      "\n",
      "See the caveats in the documentation: https://pandas.pydata.org/pandas-docs/stable/user_guide/indexing.html#returning-a-view-versus-a-copy\n",
      "  df_size_measure['size_new_1'] = df_size_measure['Size'].str.replace('m|M', '')\n"
     ]
    },
    {
     "name": "stdout",
     "output_type": "stream",
     "text": [
      "The largest size of an app is  1,006M\n"
     ]
    },
    {
     "name": "stderr",
     "output_type": "stream",
     "text": [
      "<ipython-input-31-6dcfb08a3874>:5: SettingWithCopyWarning: \n",
      "A value is trying to be set on a copy of a slice from a DataFrame.\n",
      "Try using .loc[row_indexer,col_indexer] = value instead\n",
      "\n",
      "See the caveats in the documentation: https://pandas.pydata.org/pandas-docs/stable/user_guide/indexing.html#returning-a-view-versus-a-copy\n",
      "  df_size_measure['size_new_2'] = df_size_measure['size_new_1'].str.replace(',', '').apply(pd.to_numeric)\n"
     ]
    }
   ],
   "source": [
    "df_size_of_app = df_size_app_data.sort_values('Size', ascending=True)\n",
    "df_size_measure = df_size_of_app[(df_size_of_app['Size'].str.contains('[0-9]')) & \n",
    "                                 (df_size_of_app['Size'].str.contains('m|M'))]\n",
    "df_size_measure['size_new_1'] = df_size_measure['Size'].str.replace('m|M', '')\n",
    "df_size_measure['size_new_2'] = df_size_measure['size_new_1'].str.replace(',', '').apply(pd.to_numeric)\n",
    "print('The largest size of an app is ', df_size_measure.iloc[0].Size)"
   ]
  },
  {
   "cell_type": "code",
   "execution_count": null,
   "id": "1a833e7f",
   "metadata": {},
   "outputs": [],
   "source": []
  },
  {
   "cell_type": "code",
   "execution_count": 34,
   "id": "0fa2eb48",
   "metadata": {},
   "outputs": [
    {
     "data": {
      "image/png": "[encoded data removed]",
      "text/plain": [
       "<Figure size 936x504 with 1 Axes>"
      ]
     },
     "metadata": {
      "needs_background": "light"
     },
     "output_type": "display_data"
    }
   ],
   "source": [
    "aa = df.groupby('Released Year').mean()['Rating']\n",
    "# plt.style.use('fivethirtyeight')\n",
    "x_values = list(aa.index)\n",
    "y_values = list(aa.values)\n",
    "# plt.rcParams[\"font.family\"] = \"Poppins\"\n",
    "plt.figure(figsize=(13,7))\n",
    "plt.plot(x_values, y_values, linewidth=5)\n",
    "plt.title('Rating History of Google Play Store', fontsize=20)\n",
    "plt.xlabel('Year', fontsize=25, labelpad=20 )\n",
    "plt.ylabel('Rating', fontsize=25, labelpad=20)\n",
    "plt.tick_params('both', labelsize=15, labelcolor='black')\n",
    "plt.margins(x=0.1, y=0.1, tight=True)\n",
    "plt.savefig('rating_past.jpg', dpi=200)"
   ]
  },
  {
   "cell_type": "code",
   "execution_count": null,
   "id": "7ce3839b",
   "metadata": {},
   "outputs": [],
   "source": []
  },
  {
   "cell_type": "code",
   "execution_count": null,
   "id": "a813c405",
   "metadata": {},
   "outputs": [],
   "source": []
  }
 ],
 "metadata": {
  "kernelspec": {
   "display_name": "Python 3",
   "language": "python",
   "name": "python3"
  },
  "language_info": {
   "codemirror_mode": {
    "name": "ipython",
    "version": 3
   },
   "file_extension": ".py",
   "mimetype": "text/x-python",
   "name": "python",
   "nbconvert_exporter": "python",
   "pygments_lexer": "ipython3",
   "version": "3.8.8"
  }
 },
 "nbformat": 4,
 "nbformat_minor": 5
}
